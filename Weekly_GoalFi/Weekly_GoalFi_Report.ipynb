{
 "cells": [
  {
   "cell_type": "code",
   "execution_count": 2,
   "id": "c8249931-5166-489b-b5a3-9c7069501199",
   "metadata": {},
   "outputs": [],
   "source": [
    "import pandas as pd\n",
    "import numpy as np\n",
    "import openpyxl \n",
    "from lxml.etree import tostring\n",
    "from bs4 import BeautifulSoup\n",
    "import requests\n",
    "import re\n"
   ]
  },
  {
   "cell_type": "code",
   "execution_count": 47,
   "id": "952d81ff-a39b-4eb7-b8a7-66765c5bce79",
   "metadata": {},
   "outputs": [],
   "source": [
    "def weeklypercentagecalculator(csvfile):\n",
    "    #page_to_scrape=requests.get(url).text\n",
    "    #soup=BeautifulSoup(page_to_scrape,'lxml')\n",
    "   # job=soup.find('div',class_='mt24')\n",
    "    #csvfile=job.find('button',class_='btn btn-clear-blue   link TertiaryButton__btn-inline__1cNPj TertiaryButton__btn-inherit__PXo8s TertiaryButton__tertiary-button__3COFy ')\n",
    "    #btn = soup.find(\"button\", href=\"TertiaryButton__btn-inline__1cNPj TertiaryButton__btn-inherit__PXo8s TertiaryButton__tertiary-button__3COFy\")\n",
    "    #btn_text = btn.text\n",
    "    df=pd.read_csv(csvfile)\n",
    "    df=df.reindex(index=df.index[::-1])\n",
    "    df=df.head(6)\n",
    "    name=df.columns[1]\n",
    "    initial_value = df[name].iloc[5]  # Initial value (last row)\n",
    "    final_value = df[name].iloc[0] \n",
    "    Weeklymovement_percentage=((final_value-initial_value)/initial_value)*100\n",
    "    Weeklymovement_percentage\n",
    "    name = {name:Weeklymovement_percentage}\n",
    "    smallcase= name\n",
    "    return name"
   ]
  },
  {
   "cell_type": "code",
   "execution_count": 48,
   "id": "3db381e9-8150-4f4f-aa3e-2f60468609b5",
   "metadata": {},
   "outputs": [
    {
     "data": {
      "text/plain": [
       "{'Alpha Blend – Market Leaders': 2.0847165051121936}"
      ]
     },
     "execution_count": 48,
     "metadata": {},
     "output_type": "execute_result"
    }
   ],
   "source": [
    "Alpha_Blend=weeklypercentagecalculator('Alpha Blend - Market Leaders.csv')\n",
    "Alpha_Blend"
   ]
  },
  {
   "cell_type": "code",
   "execution_count": 49,
   "id": "b6078d4b-b03d-48ce-9cea-226a09caf558",
   "metadata": {},
   "outputs": [
    {
     "data": {
      "text/plain": [
       "{'Balanced Basket - Steady Gains': 1.8036547741476159}"
      ]
     },
     "execution_count": 49,
     "metadata": {},
     "output_type": "execute_result"
    }
   ],
   "source": [
    "Balanced_Basket=weeklypercentagecalculator('Balanced Basket - Steady Gains.csv')\n",
    "Balanced_Basket"
   ]
  },
  {
   "cell_type": "code",
   "execution_count": 50,
   "id": "1eae96f6-2de3-4827-85d2-b8bda4376f3f",
   "metadata": {},
   "outputs": [
    {
     "data": {
      "text/plain": [
       "{'Momentum Trend Masters': 4.336621999705503}"
      ]
     },
     "execution_count": 50,
     "metadata": {},
     "output_type": "execute_result"
    }
   ],
   "source": [
    "Momentum_Trend_Masters=weeklypercentagecalculator('Momentum Trend Masters.csv')\n",
    "Momentum_Trend_Masters"
   ]
  },
  {
   "cell_type": "code",
   "execution_count": 51,
   "id": "1f44e963-6546-4e58-a533-ca4da06bdb88",
   "metadata": {},
   "outputs": [
    {
     "data": {
      "text/plain": [
       "{'Innovating Growth Leaders': 5.870550642788144}"
      ]
     },
     "execution_count": 51,
     "metadata": {},
     "output_type": "execute_result"
    }
   ],
   "source": [
    "Innovating_growth_leaders=weeklypercentagecalculator('Innovating Growth Leaders.csv')\n",
    "Innovating_growth_leaders"
   ]
  },
  {
   "cell_type": "code",
   "execution_count": 52,
   "id": "674e8d42-ffc1-4dde-a27a-0793d5a3f544",
   "metadata": {},
   "outputs": [
    {
     "data": {
      "text/plain": [
       "{'Multi Factor - Wealth Maximizer': 3.7413947919784496}"
      ]
     },
     "execution_count": 52,
     "metadata": {},
     "output_type": "execute_result"
    }
   ],
   "source": [
    "Multi_Factor_Wealth_Maximizer=weeklypercentagecalculator('Multi Factor-Wealth Maximizer.csv')\n",
    "Multi_Factor_Wealth_Maximizer"
   ]
  },
  {
   "cell_type": "code",
   "execution_count": 55,
   "id": "c2757f9e-c706-499b-b276-62ef649a0de5",
   "metadata": {},
   "outputs": [
    {
     "data": {
      "text/plain": [
       "{'Prime Quality - GoalFi Picks': 6.859339197279918}"
      ]
     },
     "execution_count": 55,
     "metadata": {},
     "output_type": "execute_result"
    }
   ],
   "source": [
    "Prime_Quality_GoalFi_Picks=weeklypercentagecalculator('Prime Quality - GoalFi Picks.csv')\n",
    "Prime_Quality_GoalFi_Picks"
   ]
  },
  {
   "cell_type": "code",
   "execution_count": 56,
   "id": "89c806c4-d68b-40be-8ca3-1b51b61f0da3",
   "metadata": {},
   "outputs": [
    {
     "data": {
      "text/plain": [
       "{'Value Investing - GoalFi Smart Picks': 1.3012647123327736}"
      ]
     },
     "execution_count": 56,
     "metadata": {},
     "output_type": "execute_result"
    }
   ],
   "source": [
    "Value_Investing_GoalFi_Smart_Picks=weeklypercentagecalculator('Value Investing - GoalFi Smart Picks.csv')\n",
    "Value_Investing_GoalFi_Smart_Picks"
   ]
  },
  {
   "cell_type": "code",
   "execution_count": 68,
   "id": "c943b0d0-583a-4b69-90d6-030337cea88a",
   "metadata": {},
   "outputs": [],
   "source": [
    "data=[Alpha_Blend,Balanced_Basket,Momentum_Trend_Masters,Innovating_growth_leaders,Multi_Factor_Wealth_Maximizer,Prime_Quality_GoalFi_Picks,Value_Investing_GoalFi_Smart_Picks]\n",
    "li=data"
   ]
  },
  {
   "cell_type": "code",
   "execution_count": 75,
   "id": "58ebdd4f-bf03-40bc-a41a-7b12ea589296",
   "metadata": {},
   "outputs": [
    {
     "data": {
      "text/html": [
       "<div>\n",
       "<style scoped>\n",
       "    .dataframe tbody tr th:only-of-type {\n",
       "        vertical-align: middle;\n",
       "    }\n",
       "\n",
       "    .dataframe tbody tr th {\n",
       "        vertical-align: top;\n",
       "    }\n",
       "\n",
       "    .dataframe thead th {\n",
       "        text-align: right;\n",
       "    }\n",
       "</style>\n",
       "<table border=\"1\" class=\"dataframe\">\n",
       "  <thead>\n",
       "    <tr style=\"text-align: right;\">\n",
       "      <th></th>\n",
       "      <th>index</th>\n",
       "      <th>0</th>\n",
       "      <th>1</th>\n",
       "      <th>2</th>\n",
       "      <th>3</th>\n",
       "      <th>4</th>\n",
       "      <th>5</th>\n",
       "      <th>6</th>\n",
       "    </tr>\n",
       "  </thead>\n",
       "  <tbody>\n",
       "    <tr>\n",
       "      <th>0</th>\n",
       "      <td>Alpha Blend – Market Leaders</td>\n",
       "      <td>2.084717</td>\n",
       "      <td>NaN</td>\n",
       "      <td>NaN</td>\n",
       "      <td>NaN</td>\n",
       "      <td>NaN</td>\n",
       "      <td>NaN</td>\n",
       "      <td>NaN</td>\n",
       "    </tr>\n",
       "    <tr>\n",
       "      <th>1</th>\n",
       "      <td>Balanced Basket - Steady Gains</td>\n",
       "      <td>NaN</td>\n",
       "      <td>1.803655</td>\n",
       "      <td>NaN</td>\n",
       "      <td>NaN</td>\n",
       "      <td>NaN</td>\n",
       "      <td>NaN</td>\n",
       "      <td>NaN</td>\n",
       "    </tr>\n",
       "    <tr>\n",
       "      <th>2</th>\n",
       "      <td>Momentum Trend Masters</td>\n",
       "      <td>NaN</td>\n",
       "      <td>NaN</td>\n",
       "      <td>4.336622</td>\n",
       "      <td>NaN</td>\n",
       "      <td>NaN</td>\n",
       "      <td>NaN</td>\n",
       "      <td>NaN</td>\n",
       "    </tr>\n",
       "    <tr>\n",
       "      <th>3</th>\n",
       "      <td>Innovating Growth Leaders</td>\n",
       "      <td>NaN</td>\n",
       "      <td>NaN</td>\n",
       "      <td>NaN</td>\n",
       "      <td>5.870551</td>\n",
       "      <td>NaN</td>\n",
       "      <td>NaN</td>\n",
       "      <td>NaN</td>\n",
       "    </tr>\n",
       "    <tr>\n",
       "      <th>4</th>\n",
       "      <td>Multi Factor - Wealth Maximizer</td>\n",
       "      <td>NaN</td>\n",
       "      <td>NaN</td>\n",
       "      <td>NaN</td>\n",
       "      <td>NaN</td>\n",
       "      <td>3.741395</td>\n",
       "      <td>NaN</td>\n",
       "      <td>NaN</td>\n",
       "    </tr>\n",
       "    <tr>\n",
       "      <th>5</th>\n",
       "      <td>Prime Quality - GoalFi Picks</td>\n",
       "      <td>NaN</td>\n",
       "      <td>NaN</td>\n",
       "      <td>NaN</td>\n",
       "      <td>NaN</td>\n",
       "      <td>NaN</td>\n",
       "      <td>6.859339</td>\n",
       "      <td>NaN</td>\n",
       "    </tr>\n",
       "    <tr>\n",
       "      <th>6</th>\n",
       "      <td>Value Investing - GoalFi Smart Picks</td>\n",
       "      <td>NaN</td>\n",
       "      <td>NaN</td>\n",
       "      <td>NaN</td>\n",
       "      <td>NaN</td>\n",
       "      <td>NaN</td>\n",
       "      <td>NaN</td>\n",
       "      <td>1.301265</td>\n",
       "    </tr>\n",
       "  </tbody>\n",
       "</table>\n",
       "</div>"
      ],
      "text/plain": [
       "                                  index         0         1         2  \\\n",
       "0          Alpha Blend – Market Leaders  2.084717       NaN       NaN   \n",
       "1        Balanced Basket - Steady Gains       NaN  1.803655       NaN   \n",
       "2                Momentum Trend Masters       NaN       NaN  4.336622   \n",
       "3             Innovating Growth Leaders       NaN       NaN       NaN   \n",
       "4       Multi Factor - Wealth Maximizer       NaN       NaN       NaN   \n",
       "5          Prime Quality - GoalFi Picks       NaN       NaN       NaN   \n",
       "6  Value Investing - GoalFi Smart Picks       NaN       NaN       NaN   \n",
       "\n",
       "          3         4         5         6  \n",
       "0       NaN       NaN       NaN       NaN  \n",
       "1       NaN       NaN       NaN       NaN  \n",
       "2       NaN       NaN       NaN       NaN  \n",
       "3  5.870551       NaN       NaN       NaN  \n",
       "4       NaN  3.741395       NaN       NaN  \n",
       "5       NaN       NaN  6.859339       NaN  \n",
       "6       NaN       NaN       NaN  1.301265  "
      ]
     },
     "execution_count": 75,
     "metadata": {},
     "output_type": "execute_result"
    }
   ],
   "source": [
    "data=(li)\n",
    "data\n",
    "df = pd.DataFrame(data).T.reset_index()\n",
    "\n",
    "df"
   ]
  },
  {
   "cell_type": "code",
   "execution_count": 79,
   "id": "4b51f3eb-82dd-410d-8485-ffc508500c7f",
   "metadata": {},
   "outputs": [
    {
     "data": {
      "text/html": [
       "<div>\n",
       "<style scoped>\n",
       "    .dataframe tbody tr th:only-of-type {\n",
       "        vertical-align: middle;\n",
       "    }\n",
       "\n",
       "    .dataframe tbody tr th {\n",
       "        vertical-align: top;\n",
       "    }\n",
       "\n",
       "    .dataframe thead th {\n",
       "        text-align: right;\n",
       "    }\n",
       "</style>\n",
       "<table border=\"1\" class=\"dataframe\">\n",
       "  <thead>\n",
       "    <tr style=\"text-align: right;\">\n",
       "      <th></th>\n",
       "      <th>Value</th>\n",
       "    </tr>\n",
       "    <tr>\n",
       "      <th>Name</th>\n",
       "      <th></th>\n",
       "    </tr>\n",
       "  </thead>\n",
       "  <tbody>\n",
       "    <tr>\n",
       "      <th>Alpha Blend – Market Leaders</th>\n",
       "      <td>2.084717</td>\n",
       "    </tr>\n",
       "    <tr>\n",
       "      <th>Balanced Basket - Steady Gains</th>\n",
       "      <td>1.803655</td>\n",
       "    </tr>\n",
       "    <tr>\n",
       "      <th>Momentum Trend Masters</th>\n",
       "      <td>4.336622</td>\n",
       "    </tr>\n",
       "    <tr>\n",
       "      <th>Innovating Growth Leaders</th>\n",
       "      <td>5.870551</td>\n",
       "    </tr>\n",
       "    <tr>\n",
       "      <th>Multi Factor - Wealth Maximizer</th>\n",
       "      <td>3.741395</td>\n",
       "    </tr>\n",
       "    <tr>\n",
       "      <th>Prime Quality - GoalFi Picks</th>\n",
       "      <td>6.859339</td>\n",
       "    </tr>\n",
       "    <tr>\n",
       "      <th>Value Investing - GoalFi Smart Picks</th>\n",
       "      <td>1.301265</td>\n",
       "    </tr>\n",
       "  </tbody>\n",
       "</table>\n",
       "</div>"
      ],
      "text/plain": [
       "                                         Value\n",
       "Name                                          \n",
       "Alpha Blend – Market Leaders          2.084717\n",
       "Balanced Basket - Steady Gains        1.803655\n",
       "Momentum Trend Masters                4.336622\n",
       "Innovating Growth Leaders             5.870551\n",
       "Multi Factor - Wealth Maximizer       3.741395\n",
       "Prime Quality - GoalFi Picks          6.859339\n",
       "Value Investing - GoalFi Smart Picks  1.301265"
      ]
     },
     "execution_count": 79,
     "metadata": {},
     "output_type": "execute_result"
    }
   ],
   "source": [
    "df_melted = df.melt(id_vars=['index'], var_name='Variable', value_name='Value')\n",
    "\n",
    "# Drop rows with NaN values in the 'Value' column\n",
    "df_melted = df_melted.dropna(subset=['Value'])\n",
    "\n",
    "# Drop the 'Variable' column as it is no longer needed\n",
    "df_melted = df_melted.drop(columns=['Variable'])\n",
    "\n",
    "# Rename the 'index' column to 'Name'\n",
    "df_melted = df_melted.rename(columns={'index': 'Name'})\n",
    "\n",
    "df_melted.set_index('Name',inplace=True)\n",
    "df_melted"
   ]
  }
 ],
 "metadata": {
  "kernelspec": {
   "display_name": "Python 3 (ipykernel)",
   "language": "python",
   "name": "python3"
  },
  "language_info": {
   "codemirror_mode": {
    "name": "ipython",
    "version": 3
   },
   "file_extension": ".py",
   "mimetype": "text/x-python",
   "name": "python",
   "nbconvert_exporter": "python",
   "pygments_lexer": "ipython3",
   "version": "3.12.2"
  }
 },
 "nbformat": 4,
 "nbformat_minor": 5
}
